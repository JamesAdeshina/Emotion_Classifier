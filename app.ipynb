{
 "cells": [
  {
   "cell_type": "code",
   "id": "initial_id",
   "metadata": {
    "collapsed": true,
    "ExecuteTime": {
     "end_time": "2024-12-02T22:18:40.655820Z",
     "start_time": "2024-12-02T22:18:32.631876Z"
    }
   },
   "source": [
    "#installing all packages\n",
    "import pandas as pd\n"
   ],
   "outputs": [],
   "execution_count": 1
  },
  {
   "metadata": {
    "ExecuteTime": {
     "end_time": "2024-12-02T22:18:43.642964Z",
     "start_time": "2024-12-02T22:18:40.868716Z"
    }
   },
   "cell_type": "code",
   "source": [
    "#Data Loading\n",
    "# Load the data (adjust path as needed)\n",
    "large_emotion_dataset = pd.read_csv('data/emotions.csv')"
   ],
   "id": "cab25c534592a311",
   "outputs": [],
   "execution_count": 2
  },
  {
   "metadata": {
    "ExecuteTime": {
     "end_time": "2024-12-02T22:18:50.006772Z",
     "start_time": "2024-12-02T22:18:49.944604Z"
    }
   },
   "cell_type": "code",
   "outputs": [
    {
     "data": {
      "text/plain": [
       "                                                text  label\n",
       "0      i just feel really helpless and heavy hearted      4\n",
       "1  ive enjoyed being able to slouch about relax a...      0\n",
       "2  i gave up my internship with the dmrg and am f...      4\n",
       "3                         i dont know i feel so lost      0\n",
       "4  i am a kindergarten teacher and i am thoroughl...      4"
      ],
      "text/html": [
       "<div>\n",
       "<style scoped>\n",
       "    .dataframe tbody tr th:only-of-type {\n",
       "        vertical-align: middle;\n",
       "    }\n",
       "\n",
       "    .dataframe tbody tr th {\n",
       "        vertical-align: top;\n",
       "    }\n",
       "\n",
       "    .dataframe thead th {\n",
       "        text-align: right;\n",
       "    }\n",
       "</style>\n",
       "<table border=\"1\" class=\"dataframe\">\n",
       "  <thead>\n",
       "    <tr style=\"text-align: right;\">\n",
       "      <th></th>\n",
       "      <th>text</th>\n",
       "      <th>label</th>\n",
       "    </tr>\n",
       "  </thead>\n",
       "  <tbody>\n",
       "    <tr>\n",
       "      <th>0</th>\n",
       "      <td>i just feel really helpless and heavy hearted</td>\n",
       "      <td>4</td>\n",
       "    </tr>\n",
       "    <tr>\n",
       "      <th>1</th>\n",
       "      <td>ive enjoyed being able to slouch about relax a...</td>\n",
       "      <td>0</td>\n",
       "    </tr>\n",
       "    <tr>\n",
       "      <th>2</th>\n",
       "      <td>i gave up my internship with the dmrg and am f...</td>\n",
       "      <td>4</td>\n",
       "    </tr>\n",
       "    <tr>\n",
       "      <th>3</th>\n",
       "      <td>i dont know i feel so lost</td>\n",
       "      <td>0</td>\n",
       "    </tr>\n",
       "    <tr>\n",
       "      <th>4</th>\n",
       "      <td>i am a kindergarten teacher and i am thoroughl...</td>\n",
       "      <td>4</td>\n",
       "    </tr>\n",
       "  </tbody>\n",
       "</table>\n",
       "</div>"
      ]
     },
     "execution_count": 3,
     "metadata": {},
     "output_type": "execute_result"
    }
   ],
   "source": [
    "# Display the first few rows\n",
    "large_emotion_dataset.head()"
   ],
   "id": "56e4f39c3d4ce0f4",
   "execution_count": null
  },
  {
   "metadata": {
    "ExecuteTime": {
     "end_time": "2024-12-02T22:19:11.501698Z",
     "start_time": "2024-12-02T22:19:11.415600Z"
    }
   },
   "cell_type": "code",
   "outputs": [
    {
     "data": {
      "text/plain": [
       "               label\n",
       "count  416809.000000\n",
       "mean        1.554271\n",
       "std         1.490453\n",
       "min         0.000000\n",
       "25%         0.000000\n",
       "50%         1.000000\n",
       "75%         3.000000\n",
       "max         5.000000"
      ],
      "text/html": [
       "<div>\n",
       "<style scoped>\n",
       "    .dataframe tbody tr th:only-of-type {\n",
       "        vertical-align: middle;\n",
       "    }\n",
       "\n",
       "    .dataframe tbody tr th {\n",
       "        vertical-align: top;\n",
       "    }\n",
       "\n",
       "    .dataframe thead th {\n",
       "        text-align: right;\n",
       "    }\n",
       "</style>\n",
       "<table border=\"1\" class=\"dataframe\">\n",
       "  <thead>\n",
       "    <tr style=\"text-align: right;\">\n",
       "      <th></th>\n",
       "      <th>label</th>\n",
       "    </tr>\n",
       "  </thead>\n",
       "  <tbody>\n",
       "    <tr>\n",
       "      <th>count</th>\n",
       "      <td>416809.000000</td>\n",
       "    </tr>\n",
       "    <tr>\n",
       "      <th>mean</th>\n",
       "      <td>1.554271</td>\n",
       "    </tr>\n",
       "    <tr>\n",
       "      <th>std</th>\n",
       "      <td>1.490453</td>\n",
       "    </tr>\n",
       "    <tr>\n",
       "      <th>min</th>\n",
       "      <td>0.000000</td>\n",
       "    </tr>\n",
       "    <tr>\n",
       "      <th>25%</th>\n",
       "      <td>0.000000</td>\n",
       "    </tr>\n",
       "    <tr>\n",
       "      <th>50%</th>\n",
       "      <td>1.000000</td>\n",
       "    </tr>\n",
       "    <tr>\n",
       "      <th>75%</th>\n",
       "      <td>3.000000</td>\n",
       "    </tr>\n",
       "    <tr>\n",
       "      <th>max</th>\n",
       "      <td>5.000000</td>\n",
       "    </tr>\n",
       "  </tbody>\n",
       "</table>\n",
       "</div>"
      ]
     },
     "execution_count": 4,
     "metadata": {},
     "output_type": "execute_result"
    }
   ],
   "execution_count": 4,
   "source": "large_emotion_dataset.describe()",
   "id": "248683f441ac92fb"
  },
  {
   "metadata": {
    "ExecuteTime": {
     "end_time": "2024-12-02T22:19:36.568315Z",
     "start_time": "2024-12-02T22:19:36.329483Z"
    }
   },
   "cell_type": "code",
   "outputs": [
    {
     "name": "stdout",
     "output_type": "stream",
     "text": [
      "<class 'pandas.core.frame.DataFrame'>\n",
      "RangeIndex: 416809 entries, 0 to 416808\n",
      "Data columns (total 2 columns):\n",
      " #   Column  Non-Null Count   Dtype \n",
      "---  ------  --------------   ----- \n",
      " 0   text    416809 non-null  object\n",
      " 1   label   416809 non-null  int64 \n",
      "dtypes: int64(1), object(1)\n",
      "memory usage: 6.4+ MB\n"
     ]
    }
   ],
   "execution_count": 5,
   "source": [
    "# Display the first few rows\n",
    "large_emotion_dataset.info()"
   ],
   "id": "cb01337475b2d304"
  },
  {
   "metadata": {
    "ExecuteTime": {
     "end_time": "2024-12-02T22:29:25.826172Z",
     "start_time": "2024-12-02T22:29:25.584603Z"
    }
   },
   "cell_type": "code",
   "outputs": [
    {
     "data": {
      "text/plain": [
       "label\n",
       "1    141067\n",
       "0    121187\n",
       "3     57317\n",
       "4     47712\n",
       "2     34554\n",
       "5     14972\n",
       "Name: count, dtype: int64"
      ]
     },
     "execution_count": 7,
     "metadata": {},
     "output_type": "execute_result"
    }
   ],
   "execution_count": 7,
   "source": [
    "# Display the count of texts in each category\n",
    "category_counts = large_emotion_dataset['label'].value_counts()\n",
    "category_counts"
   ],
   "id": "255479d034a4e948"
  },
  {
   "metadata": {
    "ExecuteTime": {
     "end_time": "2024-12-02T22:30:55.482623Z",
     "start_time": "2024-12-02T22:30:53.297148Z"
    }
   },
   "cell_type": "code",
   "outputs": [
    {
     "name": "stdout",
     "output_type": "stream",
     "text": [
      "                                                text  label\n",
      "0      i just feel really helpless and heavy hearted      4\n",
      "1  ive enjoyed being able to slouch about relax a...      0\n",
      "2  i gave up my internship with the dmrg and am f...      4\n",
      "3                         i dont know i feel so lost      0\n",
      "4  i am a kindergarten teacher and i am thoroughl...      4\n"
     ]
    }
   ],
   "execution_count": 8,
   "source": [
    "# Filter out all rows where label is 5\n",
    "df_no_surprise = large_emotion_dataset[large_emotion_dataset['label'] != 5]\n",
    "\n",
    "# Display the first few rows of the new DataFrame\n",
    "print(df_no_surprise.head())"
   ],
   "id": "ed39a7bb9dac115f"
  },
  {
   "metadata": {
    "ExecuteTime": {
     "end_time": "2024-12-02T22:31:12.268792Z",
     "start_time": "2024-12-02T22:31:12.221175Z"
    }
   },
   "cell_type": "code",
   "source": [
    "category_counts = df_no_surprise['label'].value_counts()\n",
    "category_counts"
   ],
   "id": "fa718bb8395e695a",
   "outputs": [
    {
     "data": {
      "text/plain": [
       "label\n",
       "1    141067\n",
       "0    121187\n",
       "3     57317\n",
       "4     47712\n",
       "2     34554\n",
       "Name: count, dtype: int64"
      ]
     },
     "execution_count": 9,
     "metadata": {},
     "output_type": "execute_result"
    }
   ],
   "execution_count": 9
  },
  {
   "metadata": {},
   "cell_type": "markdown",
   "source": "#### Handling missing and duplicate values in th dataset",
   "id": "d4d630fd6032e895"
  },
  {
   "metadata": {
    "ExecuteTime": {
     "end_time": "2024-12-02T22:31:42.945011Z",
     "start_time": "2024-12-02T22:31:42.223724Z"
    }
   },
   "cell_type": "code",
   "source": [
    "# Check and remove duplicate text entries\n",
    "df_no_duplicates = df_no_surprise.drop_duplicates(subset='text')\n",
    "\n",
    "# Display the first few rows of the cleaned DataFrame\n",
    "print(df_no_duplicates.head())\n"
   ],
   "id": "e21cf038207c35a9",
   "outputs": [
    {
     "name": "stdout",
     "output_type": "stream",
     "text": [
      "                                                text  label\n",
      "0      i just feel really helpless and heavy hearted      4\n",
      "1  ive enjoyed being able to slouch about relax a...      0\n",
      "2  i gave up my internship with the dmrg and am f...      4\n",
      "3                         i dont know i feel so lost      0\n",
      "4  i am a kindergarten teacher and i am thoroughl...      4\n"
     ]
    }
   ],
   "execution_count": 10
  },
  {
   "metadata": {
    "ExecuteTime": {
     "end_time": "2024-12-02T22:31:59.281925Z",
     "start_time": "2024-12-02T22:31:59.228650Z"
    }
   },
   "cell_type": "code",
   "source": [
    "category_counts = df_no_duplicates['label'].value_counts()\n",
    "category_counts"
   ],
   "id": "2de20ee706e2f040",
   "outputs": [
    {
     "data": {
      "text/plain": [
       "label\n",
       "1    135684\n",
       "0    118571\n",
       "3     54777\n",
       "4     45492\n",
       "2     29468\n",
       "Name: count, dtype: int64"
      ]
     },
     "execution_count": 11,
     "metadata": {},
     "output_type": "execute_result"
    }
   ],
   "execution_count": 11
  },
  {
   "metadata": {
    "ExecuteTime": {
     "end_time": "2024-12-02T22:33:11.159621Z",
     "start_time": "2024-12-02T22:33:09.092741Z"
    }
   },
   "cell_type": "code",
   "source": [
    "# Sampling 20k rows from each category 0, 1, 2, 3, 4\n",
    "sampled_data = pd.concat([df_no_duplicates[df_no_duplicates['label'] == label].sample(n=20000, random_state=42) for label in range(5)])\n",
    "\n",
    "# Store the sampled data to a new CSV file\n",
    "sampled_data.to_csv('sampled_data.csv', index=False)\n",
    "\n",
    "# Display the first few rows of the sampled data\n",
    "print(sampled_data.head())\n"
   ],
   "id": "b7cee69745b3327c",
   "outputs": [
    {
     "name": "stdout",
     "output_type": "stream",
     "text": [
      "                                                     text  label\n",
      "194099         i feel like my emotional range has shifted      0\n",
      "335031  i had been feeling pretty low on the relations...      0\n",
      "150915  i guess im glad they couldnt tell i was feelin...      0\n",
      "45404   im not broke because all year ive been feeling...      0\n",
      "239126  this issue worried me rather than saddening me...      0\n"
     ]
    }
   ],
   "execution_count": 12
  },
  {
   "metadata": {
    "ExecuteTime": {
     "end_time": "2024-12-02T22:33:31.693468Z",
     "start_time": "2024-12-02T22:33:31.609551Z"
    }
   },
   "cell_type": "code",
   "source": [
    "category_counts = sampled_data['label'].value_counts()\n",
    "category_counts\n",
    "#sadness (0), joy (1), love (2), anger (3), and fear (4)"
   ],
   "id": "ff9aed7f2d7866e",
   "outputs": [
    {
     "data": {
      "text/plain": [
       "label\n",
       "0    20000\n",
       "1    20000\n",
       "2    20000\n",
       "3    20000\n",
       "4    20000\n",
       "Name: count, dtype: int64"
      ]
     },
     "execution_count": 13,
     "metadata": {},
     "output_type": "execute_result"
    }
   ],
   "execution_count": 13
  },
  {
   "metadata": {},
   "cell_type": "code",
   "outputs": [],
   "execution_count": null,
   "source": "sampled_data",
   "id": "4e6cac996022b135"
  },
  {
   "metadata": {},
   "cell_type": "markdown",
   "source": "### Exploratory data analysis(EDA)",
   "id": "cda998f3ef7fc18c"
  },
  {
   "metadata": {},
   "cell_type": "code",
   "outputs": [],
   "execution_count": null,
   "source": "",
   "id": "f43f57bf961c60"
  },
  {
   "metadata": {},
   "cell_type": "markdown",
   "source": "### Data Preprocessing",
   "id": "36358d92082654cb"
  },
  {
   "metadata": {},
   "cell_type": "code",
   "outputs": [],
   "execution_count": null,
   "source": "def preprocessing(data):\n",
   "id": "3e853a1d9ddb1c88"
  },
  {
   "metadata": {},
   "cell_type": "markdown",
   "source": "### Feature Engineering",
   "id": "1359ef3fef02e974"
  },
  {
   "metadata": {},
   "cell_type": "markdown",
   "source": "### Model Selection and Training ",
   "id": "10e6f8be6f0aa43a"
  }
 ],
 "metadata": {
  "kernelspec": {
   "display_name": "Python 3",
   "language": "python",
   "name": "python3"
  },
  "language_info": {
   "codemirror_mode": {
    "name": "ipython",
    "version": 2
   },
   "file_extension": ".py",
   "mimetype": "text/x-python",
   "name": "python",
   "nbconvert_exporter": "python",
   "pygments_lexer": "ipython2",
   "version": "2.7.6"
  }
 },
 "nbformat": 4,
 "nbformat_minor": 5
}
